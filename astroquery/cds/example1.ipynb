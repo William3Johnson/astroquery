{
 "cells": [
  {
   "cell_type": "markdown",
   "metadata": {},
   "source": [
    "## Performing a mocserver query on a simple cone region"
   ]
  },
  {
   "cell_type": "code",
   "execution_count": 17,
   "metadata": {},
   "outputs": [],
   "source": [
    "from astropy import coordinates\n",
    "from regions import CircleSkyRegion\n",
    "\n",
    "# mocserver object derived from astroquery.query.BaseQuery\n",
    "from cds.core import cds\n",
    "from cds.dataset import Dataset\n",
    "from cds.constraints import Constraints\n",
    "from cds.spatial_constraints import Cone\n",
    "from cds.output_format import OutputFormat\n",
    "\n",
    "from pprint import pprint"
   ]
  },
  {
   "cell_type": "markdown",
   "metadata": {},
   "source": [
    "A cone search region is defined using the CircleSkyRegion module from the regions package.\n",
    "Here, a cone is defined by a location (dec, ra) expressed in degree and a radius."
   ]
  },
  {
   "cell_type": "code",
   "execution_count": 18,
   "metadata": {},
   "outputs": [],
   "source": [
    "center = coordinates.SkyCoord(10.8, 32.2, unit=\"deg\")\n",
    "radius = coordinates.Angle(1.5, 'deg')\n",
    "circle_sky_region = CircleSkyRegion(center, radius)"
   ]
  },
  {
   "cell_type": "markdown",
   "metadata": {},
   "source": [
    "This above cone region can be seen as a spatial constraint for the mocserver. The aim of the mocserver relies on returning all the datasets which contain at least one source (i.e. spatial object) lying in the previously defined cone region.\n",
    "\n",
    "A Constraints object allows us to specify the constraints that will be sent to the mocserver so that it returns all the matching datasets. For the purpose of this tutorial, we will only bind a Cone spatial constraint to our query but keep in mind that it is also possible to associate to the Constraints object a constraint on the dataset properties. It is even possible to associate both of them (i.e. a spatial constraint and a properties constraint) as we will see in a future tutorial."
   ]
  },
  {
   "cell_type": "code",
   "execution_count": 19,
   "metadata": {},
   "outputs": [],
   "source": [
    "cds_constraints = Constraints(sc=Cone(circle_sky_region, intersect='overlaps'))"
   ]
  },
  {
   "cell_type": "markdown",
   "metadata": {},
   "source": [
    "Here we have created a Constraints object and we have bound to it a Cone spatial constraint. The argument `intersect` specifies that the datasets need to intersect the cone region so that they match the mocserver query. Other possible `intersect` argument values are `covers` and `enclosed`.\n",
    "\n",
    "Now it is time to perform the query. We call the query_region method from the mocserver object that we imported and pass it the mocserver constraints object with an OutputFormat object which specify what we want to retrieve. In the code below, we have chosen to retrieve all the properties from the datasets, but keep in mind that it is possible, as in the MocServer http://alasky.unistra.fr/MocServer/query, to get only some specific fields from the matching datasets (`ID`, `dataproduct_type` and `moc_sky_fraction` are typical example of fields/properties bound to a dataset).\n",
    "\n",
    "Finally, we pass a `max_rec` parameter to the OutputFormat constructor which limits the number of matching datasets returned (otherwise we would have a plenty of datasets for this cone spatial constraint)."
   ]
  },
  {
   "cell_type": "code",
   "execution_count": 20,
   "metadata": {},
   "outputs": [
    {
     "name": "stdout",
     "output_type": "stream",
     "text": [
      "Final Request payload before requesting to alasky\n",
      "{'DEC': '32.2',\n",
      " 'MAXREC': '5',\n",
      " 'RA': '10.8',\n",
      " 'SR': '1.5',\n",
      " 'casesensitive': 'true',\n",
      " 'fmt': 'json',\n",
      " 'get': 'record',\n",
      " 'intersect': 'overlaps'}\n",
      "{'CDS/B/assocdata/obscore': <cds.dataset.Dataset object at 0x7f378a979b00>,\n",
      " 'CDS/B/cb/lmxbdata': <cds.dataset.Dataset object at 0x7f378a979ba8>,\n",
      " 'CDS/B/cfht/cfht': <cds.dataset.Dataset object at 0x7f378a979c18>,\n",
      " 'CDS/B/cfht/obscore': <cds.dataset.Dataset object at 0x7f378a979c88>,\n",
      " 'CDS/B/chandra/chandra': <cds.dataset.Dataset object at 0x7f378a979cf8>}\n"
     ]
    }
   ],
   "source": [
    "datasets_d = cds.query_region(cds_constraints,\n",
    "                                  OutputFormat(format=OutputFormat.Type.record,\n",
    "                                               max_rec=5))\n",
    "\n",
    "pprint(datasets_d)"
   ]
  },
  {
   "cell_type": "markdown",
   "metadata": {},
   "source": [
    "We got a dictionary of mocserver.dataset.Dataset objects indexed by their IDs. To get the properties of one dataset, say `CDS/B/cb/lmxbdata`, just do the following :"
   ]
  },
  {
   "cell_type": "code",
   "execution_count": 21,
   "metadata": {},
   "outputs": [
    {
     "name": "stdout",
     "output_type": "stream",
     "text": [
      "{'ID': 'CDS/B/cb/lmxbdata',\n",
      " 'TIMESTAMP': 1521555687000.0,\n",
      " 'bib_reference': '2003A&A...404..301R',\n",
      " 'cs_service_url': 'http://vizier.u-strasbg.fr/viz-bin/votable/-A?-source=B%2Fcb%2Flmxbdata&',\n",
      " 'data_ucd': ['src.class',\n",
      "              'phys.luminosity;arith.ratio',\n",
      "              'time.period',\n",
      "              'phot.mag;em.opt.V',\n",
      "              'src.orbital.inclination',\n",
      "              'pos.eq.dec',\n",
      "              'phys.mass',\n",
      "              'pos.eq.ra',\n",
      "              'phys.mass;arith.ratio',\n",
      "              'meta.id',\n",
      "              'src.spType'],\n",
      " 'dataproduct_type': 'catalog',\n",
      " 'moc_access_url': 'http://alasky.unistra.fr/footprints/tables/vizier/B_cb_lmxbdata/MOC?nside=2048',\n",
      " 'moc_order': 11.0,\n",
      " 'moc_sky_fraction': 2.066e-06,\n",
      " 'nb_rows': 108.0,\n",
      " 'obs_astronomy_kw': ['Novae', 'Binaries:cataclysmic'],\n",
      " 'obs_collection': 'CV',\n",
      " 'obs_collection_label': ['CV', 'CB'],\n",
      " 'obs_copyright_url': 'http://cdsarc.u-strasbg.fr/viz-bin/Cat?B%2Fcb',\n",
      " 'obs_description': 'Catalogue of Low-Mass X-Ray Binaries',\n",
      " 'obs_description_url': 'http://cdsarc.u-strasbg.fr/viz-bin/Cat?B%2Fcb',\n",
      " 'obs_id': 'B/cb/lmxbdata',\n",
      " 'obs_initial_dec': 32.90817697165526,\n",
      " 'obs_initial_fov': 0.028629053431811713,\n",
      " 'obs_initial_ra': 65.4345703125,\n",
      " 'obs_label': 'lmxbdata',\n",
      " 'obs_release_date': '2010-03-21T13:03:47Z',\n",
      " 'obs_title': 'Cataclysmic Binaries, LMXBs, and related objects (Ritter+, '\n",
      "              '2004) (lmxbdata)',\n",
      " 'publisher_id': 'ivo://CDS',\n",
      " 'tap_tablename': 'viz7.B/cb/lmxbdata',\n",
      " 'vizier_popularity': 3.0,\n",
      " 'web_access_url': 'http://vizier.u-strasbg.fr/viz-bin/VizieR-2?-source=B%2Fcb%2Flmxbdata&'}\n"
     ]
    }
   ],
   "source": [
    "pprint(datasets_d['CDS/B/cb/lmxbdata'].properties)"
   ]
  },
  {
   "cell_type": "markdown",
   "metadata": {},
   "source": [
    "It is also possible to get only the datasets ``ID``s, the ``number``\n",
    "of matching datasets or just the ``moc`` resulting from the union of all\n",
    "the mocs of the matching datasets (mocpy object). (See the OutputFormat definition class and its ``format`` type)."
   ]
  },
  {
   "cell_type": "code",
   "execution_count": 22,
   "metadata": {},
   "outputs": [
    {
     "name": "stdout",
     "output_type": "stream",
     "text": [
      "Final Request payload before requesting to alasky\n",
      "{'DEC': '32.2',\n",
      " 'RA': '10.8',\n",
      " 'SR': '1.5',\n",
      " 'casesensitive': 'true',\n",
      " 'fmt': 'json',\n",
      " 'get': 'moc',\n",
      " 'intersect': 'overlaps',\n",
      " 'order': 14}\n",
      "<mocpy.moc.MOC object at 0x7f378a9f0160>\n"
     ]
    }
   ],
   "source": [
    "moc = cds.query_region(cds_constraints,\n",
    "                                  OutputFormat(format=OutputFormat.Type.moc,\n",
    "                                               moc_order=14))\n",
    "pprint(moc)"
   ]
  },
  {
   "cell_type": "markdown",
   "metadata": {},
   "source": [
    "The result of a mocserver query depends on the OutputFormat object we have passed to the query_region method.\n",
    "If we query for the ``ID``s of the datasets then we get a python list of all the  ``ID``s matching the condition.\n",
    "If a user query for the ``number`` of datasets, he gets an int.\n",
    "If you want all the record of the matching datasets (the ``ID``s plus its properties/fields) you get\n",
    "as we have seen above, a dictionary indexed by the ``ID``s of the datasets and as each value a Dataset object.\n",
    "This Dataset object allows you to query a specific service (if available for this dataset) such as a tap service, a cone search service...\n",
    "\n",
    "The service then returns a VOTable containing all the matching sources of the dataset you have submitted a query. We can see that the dataset `CDS/B/cb/lmxbdata` contains the field `cs_service_url` referring the url of the cone search service for this dataset. To query this service, we call the following command, specifying we want to query the Simple Cone Search service with a cone of center `pos` and of radius `radius`."
   ]
  },
  {
   "cell_type": "code",
   "execution_count": 23,
   "metadata": {},
   "outputs": [
    {
     "data": {
      "text/plain": [
       "<Table masked=True length=1>\n",
       "_RAJ2000 _DEJ2000    _r      Name   ...   mag1   Orb.Per  SpType2  Refs \n",
       "  deg      deg      deg             ...   mag       d                   \n",
       "float64  float64  float64  bytes12  ... float32  float64   bytes7 bytes4\n",
       "-------- -------- ------- --------- ... ------- --------- ------- ------\n",
       " 11.2033  33.0092 0.87761 0042+3244 ...    18.8 11.600000           Refs"
      ]
     },
     "execution_count": 23,
     "metadata": {},
     "output_type": "execute_result"
    }
   ],
   "source": [
    "votable = datasets_d['CDS/B/cb/lmxbdata'].search(Dataset.ServiceType.cs, pos=(10.8, 32.2), radius=1.5)\n",
    "votable"
   ]
  },
  {
   "cell_type": "markdown",
   "metadata": {},
   "source": [
    "The returned VOTable shows us why the dataset has been returned by the mocserver : there is a source from that dataset which lies into the cone defined as the spatial constraint for the mocserver query."
   ]
  }
 ],
 "metadata": {
  "kernelspec": {
   "display_name": "Python 3",
   "language": "python",
   "name": "python3"
  },
  "language_info": {
   "codemirror_mode": {
    "name": "ipython",
    "version": 3
   },
   "file_extension": ".py",
   "mimetype": "text/x-python",
   "name": "python",
   "nbconvert_exporter": "python",
   "pygments_lexer": "ipython3",
   "version": "3.5.2"
  }
 },
 "nbformat": 4,
 "nbformat_minor": 2
}
